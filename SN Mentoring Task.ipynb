{
 "cells": [
  {
   "cell_type": "code",
   "execution_count": 5,
   "id": "aa29effd-02db-4618-b92c-ba34ced75414",
   "metadata": {},
   "outputs": [
    {
     "name": "stdout",
     "output_type": "stream",
     "text": [
      "I'm just a language model, I don't have feelings or emotions like humans do, but I'm functioning properly and ready to help with any questions or tasks you have! How are you doing today?\n"
     ]
    }
   ],
   "source": [
    "import together\n",
    "\n",
    "# Set API key using environment variable (new recommended method)\n",
    "import os\n",
    "os.environ[\"TOGETHER_API_KEY\"] = \"a0d24deea53c9fa31fdc6b3a8e2de768e80fe0a036e7a4aa88c33b289b1b21bd\"\n",
    "\n",
    "# Initialize the Together client\n",
    "client = together.Together()\n",
    "\n",
    "# Test API call\n",
    "response = client.chat.completions.create(\n",
    "    model=\"meta-llama/Llama-4-Maverick-17B-128E-Instruct-FP8\",\n",
    "    messages=[{\"role\": \"user\", \"content\": \"Hello! How are you?\"}],\n",
    "    max_tokens=50,\n",
    "    temperature=0.7\n",
    ")\n",
    "\n",
    "# Show response\n",
    "print(response.choices[0].message.content)\n",
    "\n"
   ]
  },
  {
   "cell_type": "code",
   "execution_count": 6,
   "id": "39cb49ec-a319-42e6-9374-24475ea83f19",
   "metadata": {},
   "outputs": [
    {
     "name": "stdout",
     "output_type": "stream",
     "text": [
      "Requirement already satisfied: pandas in c:\\users\\affan\\anaconda3\\envs\\dataagent\\lib\\site-packages (2.3.0)\n",
      "Requirement already satisfied: openpyxl in c:\\users\\affan\\anaconda3\\envs\\dataagent\\lib\\site-packages (3.1.5)\n",
      "Requirement already satisfied: pdfplumber in c:\\users\\affan\\anaconda3\\envs\\dataagent\\lib\\site-packages (0.11.7)\n",
      "Requirement already satisfied: numpy>=1.23.2 in c:\\users\\affan\\anaconda3\\envs\\dataagent\\lib\\site-packages (from pandas) (2.3.0)\n",
      "Requirement already satisfied: python-dateutil>=2.8.2 in c:\\users\\affan\\anaconda3\\envs\\dataagent\\lib\\site-packages (from pandas) (2.9.0.post0)\n",
      "Requirement already satisfied: pytz>=2020.1 in c:\\users\\affan\\anaconda3\\envs\\dataagent\\lib\\site-packages (from pandas) (2025.2)\n",
      "Requirement already satisfied: tzdata>=2022.7 in c:\\users\\affan\\anaconda3\\envs\\dataagent\\lib\\site-packages (from pandas) (2025.2)\n",
      "Requirement already satisfied: et-xmlfile in c:\\users\\affan\\anaconda3\\envs\\dataagent\\lib\\site-packages (from openpyxl) (2.0.0)\n",
      "Requirement already satisfied: pdfminer.six==20250506 in c:\\users\\affan\\anaconda3\\envs\\dataagent\\lib\\site-packages (from pdfplumber) (20250506)\n",
      "Requirement already satisfied: Pillow>=9.1 in c:\\users\\affan\\anaconda3\\envs\\dataagent\\lib\\site-packages (from pdfplumber) (11.2.1)\n",
      "Requirement already satisfied: pypdfium2>=4.18.0 in c:\\users\\affan\\anaconda3\\envs\\dataagent\\lib\\site-packages (from pdfplumber) (4.30.1)\n",
      "Requirement already satisfied: charset-normalizer>=2.0.0 in c:\\users\\affan\\anaconda3\\envs\\dataagent\\lib\\site-packages (from pdfminer.six==20250506->pdfplumber) (3.4.2)\n",
      "Requirement already satisfied: cryptography>=36.0.0 in c:\\users\\affan\\anaconda3\\envs\\dataagent\\lib\\site-packages (from pdfminer.six==20250506->pdfplumber) (45.0.4)\n",
      "Requirement already satisfied: cffi>=1.14 in c:\\users\\affan\\anaconda3\\envs\\dataagent\\lib\\site-packages (from cryptography>=36.0.0->pdfminer.six==20250506->pdfplumber) (1.17.1)\n",
      "Requirement already satisfied: pycparser in c:\\users\\affan\\anaconda3\\envs\\dataagent\\lib\\site-packages (from cffi>=1.14->cryptography>=36.0.0->pdfminer.six==20250506->pdfplumber) (2.22)\n",
      "Requirement already satisfied: six>=1.5 in c:\\users\\affan\\anaconda3\\envs\\dataagent\\lib\\site-packages (from python-dateutil>=2.8.2->pandas) (1.17.0)\n"
     ]
    }
   ],
   "source": [
    "!pip install pandas openpyxl pdfplumber\n"
   ]
  },
  {
   "cell_type": "code",
   "execution_count": 7,
   "id": "2c928ac7-c4c3-4bc7-b11d-5f1d8511dad6",
   "metadata": {},
   "outputs": [],
   "source": [
    "import pandas as pd\n",
    "\n",
    "def read_csv(file):\n",
    "    try:\n",
    "        data = pd.read_csv(file)\n",
    "        print(\"file read successfully\")\n",
    "        print(data.head()) # just showing first 5 rows\n",
    "        return data\n",
    "    except Exception as err:\n",
    "        print(\"some error happened:\", err)\n"
   ]
  },
  {
   "cell_type": "code",
   "execution_count": 8,
   "id": "9342ef8b-db49-40b7-9006-f9578c113a89",
   "metadata": {},
   "outputs": [
    {
     "name": "stdout",
     "output_type": "stream",
     "text": [
      "some error happened: [Errno 2] No such file or directory: 'C:/Users/Affan/Downloads/archive (1)/personality_dataset.csv'\n"
     ]
    }
   ],
   "source": [
    "read_csv(\"C:/Users/Affan/Downloads/archive (1)/personality_dataset.csv\")\n"
   ]
  },
  {
   "cell_type": "code",
   "execution_count": 9,
   "id": "5fe0b92d-c67f-4f31-98d5-b128440387bd",
   "metadata": {},
   "outputs": [],
   "source": [
    "def read_excel(file):\n",
    "    try:\n",
    "        data = pd.read_excel(file)\n",
    "        print(\"excel file loaded\")\n",
    "        print(data.head())\n",
    "        return data\n",
    "    except Exception as err:\n",
    "        print(\"couldn't read the excel file:\", err)\n"
   ]
  },
  {
   "cell_type": "code",
   "execution_count": 10,
   "id": "37fc26fa-f05b-41e0-9377-61ce8ddccea6",
   "metadata": {},
   "outputs": [
    {
     "name": "stdout",
     "output_type": "stream",
     "text": [
      "excel file loaded\n",
      "   Row ID        Order ID Order Date  Ship Date       Ship Mode Customer ID  \\\n",
      "0       1  CA-2020-152156 2020-11-08 2020-11-11    Second Class    CG-12520   \n",
      "1       2  CA-2020-152156 2020-11-08 2020-11-11    Second Class    CG-12520   \n",
      "2       3  CA-2020-138688 2020-06-12 2020-06-16    Second Class    DV-13045   \n",
      "3       4  US-2019-108966 2019-10-11 2019-10-18  Standard Class    SO-20335   \n",
      "4       5  US-2019-108966 2019-10-11 2019-10-18  Standard Class    SO-20335   \n",
      "\n",
      "     Customer Name    Segment Country/Region             City  ...  \\\n",
      "0      Claire Gute   Consumer  United States        Henderson  ...   \n",
      "1      Claire Gute   Consumer  United States        Henderson  ...   \n",
      "2  Darrin Van Huff  Corporate  United States      Los Angeles  ...   \n",
      "3   Sean O'Donnell   Consumer  United States  Fort Lauderdale  ...   \n",
      "4   Sean O'Donnell   Consumer  United States  Fort Lauderdale  ...   \n",
      "\n",
      "  Postal Code  Region       Product ID         Category Sub-Category  \\\n",
      "0     42420.0   South  FUR-BO-10001798        Furniture    Bookcases   \n",
      "1     42420.0   South  FUR-CH-10000454        Furniture       Chairs   \n",
      "2     90036.0    West  OFF-LA-10000240  Office Supplies       Labels   \n",
      "3     33311.0   South  FUR-TA-10000577        Furniture       Tables   \n",
      "4     33311.0   South  OFF-ST-10000760  Office Supplies      Storage   \n",
      "\n",
      "                                        Product Name     Sales  Quantity  \\\n",
      "0                  Bush Somerset Collection Bookcase  261.9600         2   \n",
      "1  Hon Deluxe Fabric Upholstered Stacking Chairs,...  731.9400         3   \n",
      "2  Self-Adhesive Address Labels for Typewriters b...   14.6200         2   \n",
      "3      Bretford CR4500 Series Slim Rectangular Table  957.5775         5   \n",
      "4                     Eldon Fold 'N Roll Cart System   22.3680         2   \n",
      "\n",
      "   Discount    Profit  \n",
      "0      0.00   41.9136  \n",
      "1      0.00  219.5820  \n",
      "2      0.00    6.8714  \n",
      "3      0.45 -383.0310  \n",
      "4      0.20    2.5164  \n",
      "\n",
      "[5 rows x 21 columns]\n"
     ]
    },
    {
     "data": {
      "text/html": [
       "<div>\n",
       "<style scoped>\n",
       "    .dataframe tbody tr th:only-of-type {\n",
       "        vertical-align: middle;\n",
       "    }\n",
       "\n",
       "    .dataframe tbody tr th {\n",
       "        vertical-align: top;\n",
       "    }\n",
       "\n",
       "    .dataframe thead th {\n",
       "        text-align: right;\n",
       "    }\n",
       "</style>\n",
       "<table border=\"1\" class=\"dataframe\">\n",
       "  <thead>\n",
       "    <tr style=\"text-align: right;\">\n",
       "      <th></th>\n",
       "      <th>Row ID</th>\n",
       "      <th>Order ID</th>\n",
       "      <th>Order Date</th>\n",
       "      <th>Ship Date</th>\n",
       "      <th>Ship Mode</th>\n",
       "      <th>Customer ID</th>\n",
       "      <th>Customer Name</th>\n",
       "      <th>Segment</th>\n",
       "      <th>Country/Region</th>\n",
       "      <th>City</th>\n",
       "      <th>...</th>\n",
       "      <th>Postal Code</th>\n",
       "      <th>Region</th>\n",
       "      <th>Product ID</th>\n",
       "      <th>Category</th>\n",
       "      <th>Sub-Category</th>\n",
       "      <th>Product Name</th>\n",
       "      <th>Sales</th>\n",
       "      <th>Quantity</th>\n",
       "      <th>Discount</th>\n",
       "      <th>Profit</th>\n",
       "    </tr>\n",
       "  </thead>\n",
       "  <tbody>\n",
       "    <tr>\n",
       "      <th>0</th>\n",
       "      <td>1</td>\n",
       "      <td>CA-2020-152156</td>\n",
       "      <td>2020-11-08</td>\n",
       "      <td>2020-11-11</td>\n",
       "      <td>Second Class</td>\n",
       "      <td>CG-12520</td>\n",
       "      <td>Claire Gute</td>\n",
       "      <td>Consumer</td>\n",
       "      <td>United States</td>\n",
       "      <td>Henderson</td>\n",
       "      <td>...</td>\n",
       "      <td>42420.0</td>\n",
       "      <td>South</td>\n",
       "      <td>FUR-BO-10001798</td>\n",
       "      <td>Furniture</td>\n",
       "      <td>Bookcases</td>\n",
       "      <td>Bush Somerset Collection Bookcase</td>\n",
       "      <td>261.9600</td>\n",
       "      <td>2</td>\n",
       "      <td>0.00</td>\n",
       "      <td>41.9136</td>\n",
       "    </tr>\n",
       "    <tr>\n",
       "      <th>1</th>\n",
       "      <td>2</td>\n",
       "      <td>CA-2020-152156</td>\n",
       "      <td>2020-11-08</td>\n",
       "      <td>2020-11-11</td>\n",
       "      <td>Second Class</td>\n",
       "      <td>CG-12520</td>\n",
       "      <td>Claire Gute</td>\n",
       "      <td>Consumer</td>\n",
       "      <td>United States</td>\n",
       "      <td>Henderson</td>\n",
       "      <td>...</td>\n",
       "      <td>42420.0</td>\n",
       "      <td>South</td>\n",
       "      <td>FUR-CH-10000454</td>\n",
       "      <td>Furniture</td>\n",
       "      <td>Chairs</td>\n",
       "      <td>Hon Deluxe Fabric Upholstered Stacking Chairs,...</td>\n",
       "      <td>731.9400</td>\n",
       "      <td>3</td>\n",
       "      <td>0.00</td>\n",
       "      <td>219.5820</td>\n",
       "    </tr>\n",
       "    <tr>\n",
       "      <th>2</th>\n",
       "      <td>3</td>\n",
       "      <td>CA-2020-138688</td>\n",
       "      <td>2020-06-12</td>\n",
       "      <td>2020-06-16</td>\n",
       "      <td>Second Class</td>\n",
       "      <td>DV-13045</td>\n",
       "      <td>Darrin Van Huff</td>\n",
       "      <td>Corporate</td>\n",
       "      <td>United States</td>\n",
       "      <td>Los Angeles</td>\n",
       "      <td>...</td>\n",
       "      <td>90036.0</td>\n",
       "      <td>West</td>\n",
       "      <td>OFF-LA-10000240</td>\n",
       "      <td>Office Supplies</td>\n",
       "      <td>Labels</td>\n",
       "      <td>Self-Adhesive Address Labels for Typewriters b...</td>\n",
       "      <td>14.6200</td>\n",
       "      <td>2</td>\n",
       "      <td>0.00</td>\n",
       "      <td>6.8714</td>\n",
       "    </tr>\n",
       "    <tr>\n",
       "      <th>3</th>\n",
       "      <td>4</td>\n",
       "      <td>US-2019-108966</td>\n",
       "      <td>2019-10-11</td>\n",
       "      <td>2019-10-18</td>\n",
       "      <td>Standard Class</td>\n",
       "      <td>SO-20335</td>\n",
       "      <td>Sean O'Donnell</td>\n",
       "      <td>Consumer</td>\n",
       "      <td>United States</td>\n",
       "      <td>Fort Lauderdale</td>\n",
       "      <td>...</td>\n",
       "      <td>33311.0</td>\n",
       "      <td>South</td>\n",
       "      <td>FUR-TA-10000577</td>\n",
       "      <td>Furniture</td>\n",
       "      <td>Tables</td>\n",
       "      <td>Bretford CR4500 Series Slim Rectangular Table</td>\n",
       "      <td>957.5775</td>\n",
       "      <td>5</td>\n",
       "      <td>0.45</td>\n",
       "      <td>-383.0310</td>\n",
       "    </tr>\n",
       "    <tr>\n",
       "      <th>4</th>\n",
       "      <td>5</td>\n",
       "      <td>US-2019-108966</td>\n",
       "      <td>2019-10-11</td>\n",
       "      <td>2019-10-18</td>\n",
       "      <td>Standard Class</td>\n",
       "      <td>SO-20335</td>\n",
       "      <td>Sean O'Donnell</td>\n",
       "      <td>Consumer</td>\n",
       "      <td>United States</td>\n",
       "      <td>Fort Lauderdale</td>\n",
       "      <td>...</td>\n",
       "      <td>33311.0</td>\n",
       "      <td>South</td>\n",
       "      <td>OFF-ST-10000760</td>\n",
       "      <td>Office Supplies</td>\n",
       "      <td>Storage</td>\n",
       "      <td>Eldon Fold 'N Roll Cart System</td>\n",
       "      <td>22.3680</td>\n",
       "      <td>2</td>\n",
       "      <td>0.20</td>\n",
       "      <td>2.5164</td>\n",
       "    </tr>\n",
       "    <tr>\n",
       "      <th>...</th>\n",
       "      <td>...</td>\n",
       "      <td>...</td>\n",
       "      <td>...</td>\n",
       "      <td>...</td>\n",
       "      <td>...</td>\n",
       "      <td>...</td>\n",
       "      <td>...</td>\n",
       "      <td>...</td>\n",
       "      <td>...</td>\n",
       "      <td>...</td>\n",
       "      <td>...</td>\n",
       "      <td>...</td>\n",
       "      <td>...</td>\n",
       "      <td>...</td>\n",
       "      <td>...</td>\n",
       "      <td>...</td>\n",
       "      <td>...</td>\n",
       "      <td>...</td>\n",
       "      <td>...</td>\n",
       "      <td>...</td>\n",
       "      <td>...</td>\n",
       "    </tr>\n",
       "    <tr>\n",
       "      <th>9989</th>\n",
       "      <td>9990</td>\n",
       "      <td>CA-2018-110422</td>\n",
       "      <td>2018-01-21</td>\n",
       "      <td>2018-01-23</td>\n",
       "      <td>Second Class</td>\n",
       "      <td>TB-21400</td>\n",
       "      <td>Tom Boeckenhauer</td>\n",
       "      <td>Consumer</td>\n",
       "      <td>United States</td>\n",
       "      <td>Miami</td>\n",
       "      <td>...</td>\n",
       "      <td>33180.0</td>\n",
       "      <td>South</td>\n",
       "      <td>FUR-FU-10001889</td>\n",
       "      <td>Furniture</td>\n",
       "      <td>Furnishings</td>\n",
       "      <td>Ultra Door Pull Handle</td>\n",
       "      <td>25.2480</td>\n",
       "      <td>3</td>\n",
       "      <td>0.20</td>\n",
       "      <td>4.1028</td>\n",
       "    </tr>\n",
       "    <tr>\n",
       "      <th>9990</th>\n",
       "      <td>9991</td>\n",
       "      <td>CA-2021-121258</td>\n",
       "      <td>2021-02-26</td>\n",
       "      <td>2021-03-03</td>\n",
       "      <td>Standard Class</td>\n",
       "      <td>DB-13060</td>\n",
       "      <td>Dave Brooks</td>\n",
       "      <td>Consumer</td>\n",
       "      <td>United States</td>\n",
       "      <td>Costa Mesa</td>\n",
       "      <td>...</td>\n",
       "      <td>92627.0</td>\n",
       "      <td>West</td>\n",
       "      <td>FUR-FU-10000747</td>\n",
       "      <td>Furniture</td>\n",
       "      <td>Furnishings</td>\n",
       "      <td>Tenex B1-RE Series Chair Mats for Low Pile Car...</td>\n",
       "      <td>91.9600</td>\n",
       "      <td>2</td>\n",
       "      <td>0.00</td>\n",
       "      <td>15.6332</td>\n",
       "    </tr>\n",
       "    <tr>\n",
       "      <th>9991</th>\n",
       "      <td>9992</td>\n",
       "      <td>CA-2021-121258</td>\n",
       "      <td>2021-02-26</td>\n",
       "      <td>2021-03-03</td>\n",
       "      <td>Standard Class</td>\n",
       "      <td>DB-13060</td>\n",
       "      <td>Dave Brooks</td>\n",
       "      <td>Consumer</td>\n",
       "      <td>United States</td>\n",
       "      <td>Costa Mesa</td>\n",
       "      <td>...</td>\n",
       "      <td>92627.0</td>\n",
       "      <td>West</td>\n",
       "      <td>TEC-PH-10003645</td>\n",
       "      <td>Technology</td>\n",
       "      <td>Phones</td>\n",
       "      <td>Aastra 57i VoIP phone</td>\n",
       "      <td>258.5760</td>\n",
       "      <td>2</td>\n",
       "      <td>0.20</td>\n",
       "      <td>19.3932</td>\n",
       "    </tr>\n",
       "    <tr>\n",
       "      <th>9992</th>\n",
       "      <td>9993</td>\n",
       "      <td>CA-2021-121258</td>\n",
       "      <td>2021-02-26</td>\n",
       "      <td>2021-03-03</td>\n",
       "      <td>Standard Class</td>\n",
       "      <td>DB-13060</td>\n",
       "      <td>Dave Brooks</td>\n",
       "      <td>Consumer</td>\n",
       "      <td>United States</td>\n",
       "      <td>Costa Mesa</td>\n",
       "      <td>...</td>\n",
       "      <td>92627.0</td>\n",
       "      <td>West</td>\n",
       "      <td>OFF-PA-10004041</td>\n",
       "      <td>Office Supplies</td>\n",
       "      <td>Paper</td>\n",
       "      <td>It's Hot Message Books with Stickers, 2 3/4\" x 5\"</td>\n",
       "      <td>29.6000</td>\n",
       "      <td>4</td>\n",
       "      <td>0.00</td>\n",
       "      <td>13.3200</td>\n",
       "    </tr>\n",
       "    <tr>\n",
       "      <th>9993</th>\n",
       "      <td>9994</td>\n",
       "      <td>CA-2021-119914</td>\n",
       "      <td>2021-05-04</td>\n",
       "      <td>2021-05-09</td>\n",
       "      <td>Second Class</td>\n",
       "      <td>CC-12220</td>\n",
       "      <td>Chris Cortes</td>\n",
       "      <td>Consumer</td>\n",
       "      <td>United States</td>\n",
       "      <td>Westminster</td>\n",
       "      <td>...</td>\n",
       "      <td>92683.0</td>\n",
       "      <td>West</td>\n",
       "      <td>OFF-AP-10002684</td>\n",
       "      <td>Office Supplies</td>\n",
       "      <td>Appliances</td>\n",
       "      <td>Acco 7-Outlet Masterpiece Power Center, Wihtou...</td>\n",
       "      <td>243.1600</td>\n",
       "      <td>2</td>\n",
       "      <td>0.00</td>\n",
       "      <td>72.9480</td>\n",
       "    </tr>\n",
       "  </tbody>\n",
       "</table>\n",
       "<p>9994 rows × 21 columns</p>\n",
       "</div>"
      ],
      "text/plain": [
       "      Row ID        Order ID Order Date  Ship Date       Ship Mode  \\\n",
       "0          1  CA-2020-152156 2020-11-08 2020-11-11    Second Class   \n",
       "1          2  CA-2020-152156 2020-11-08 2020-11-11    Second Class   \n",
       "2          3  CA-2020-138688 2020-06-12 2020-06-16    Second Class   \n",
       "3          4  US-2019-108966 2019-10-11 2019-10-18  Standard Class   \n",
       "4          5  US-2019-108966 2019-10-11 2019-10-18  Standard Class   \n",
       "...      ...             ...        ...        ...             ...   \n",
       "9989    9990  CA-2018-110422 2018-01-21 2018-01-23    Second Class   \n",
       "9990    9991  CA-2021-121258 2021-02-26 2021-03-03  Standard Class   \n",
       "9991    9992  CA-2021-121258 2021-02-26 2021-03-03  Standard Class   \n",
       "9992    9993  CA-2021-121258 2021-02-26 2021-03-03  Standard Class   \n",
       "9993    9994  CA-2021-119914 2021-05-04 2021-05-09    Second Class   \n",
       "\n",
       "     Customer ID     Customer Name    Segment Country/Region             City  \\\n",
       "0       CG-12520       Claire Gute   Consumer  United States        Henderson   \n",
       "1       CG-12520       Claire Gute   Consumer  United States        Henderson   \n",
       "2       DV-13045   Darrin Van Huff  Corporate  United States      Los Angeles   \n",
       "3       SO-20335    Sean O'Donnell   Consumer  United States  Fort Lauderdale   \n",
       "4       SO-20335    Sean O'Donnell   Consumer  United States  Fort Lauderdale   \n",
       "...          ...               ...        ...            ...              ...   \n",
       "9989    TB-21400  Tom Boeckenhauer   Consumer  United States            Miami   \n",
       "9990    DB-13060       Dave Brooks   Consumer  United States       Costa Mesa   \n",
       "9991    DB-13060       Dave Brooks   Consumer  United States       Costa Mesa   \n",
       "9992    DB-13060       Dave Brooks   Consumer  United States       Costa Mesa   \n",
       "9993    CC-12220      Chris Cortes   Consumer  United States      Westminster   \n",
       "\n",
       "      ... Postal Code  Region       Product ID         Category Sub-Category  \\\n",
       "0     ...     42420.0   South  FUR-BO-10001798        Furniture    Bookcases   \n",
       "1     ...     42420.0   South  FUR-CH-10000454        Furniture       Chairs   \n",
       "2     ...     90036.0    West  OFF-LA-10000240  Office Supplies       Labels   \n",
       "3     ...     33311.0   South  FUR-TA-10000577        Furniture       Tables   \n",
       "4     ...     33311.0   South  OFF-ST-10000760  Office Supplies      Storage   \n",
       "...   ...         ...     ...              ...              ...          ...   \n",
       "9989  ...     33180.0   South  FUR-FU-10001889        Furniture  Furnishings   \n",
       "9990  ...     92627.0    West  FUR-FU-10000747        Furniture  Furnishings   \n",
       "9991  ...     92627.0    West  TEC-PH-10003645       Technology       Phones   \n",
       "9992  ...     92627.0    West  OFF-PA-10004041  Office Supplies        Paper   \n",
       "9993  ...     92683.0    West  OFF-AP-10002684  Office Supplies   Appliances   \n",
       "\n",
       "                                           Product Name     Sales  Quantity  \\\n",
       "0                     Bush Somerset Collection Bookcase  261.9600         2   \n",
       "1     Hon Deluxe Fabric Upholstered Stacking Chairs,...  731.9400         3   \n",
       "2     Self-Adhesive Address Labels for Typewriters b...   14.6200         2   \n",
       "3         Bretford CR4500 Series Slim Rectangular Table  957.5775         5   \n",
       "4                        Eldon Fold 'N Roll Cart System   22.3680         2   \n",
       "...                                                 ...       ...       ...   \n",
       "9989                             Ultra Door Pull Handle   25.2480         3   \n",
       "9990  Tenex B1-RE Series Chair Mats for Low Pile Car...   91.9600         2   \n",
       "9991                              Aastra 57i VoIP phone  258.5760         2   \n",
       "9992  It's Hot Message Books with Stickers, 2 3/4\" x 5\"   29.6000         4   \n",
       "9993  Acco 7-Outlet Masterpiece Power Center, Wihtou...  243.1600         2   \n",
       "\n",
       "      Discount    Profit  \n",
       "0         0.00   41.9136  \n",
       "1         0.00  219.5820  \n",
       "2         0.00    6.8714  \n",
       "3         0.45 -383.0310  \n",
       "4         0.20    2.5164  \n",
       "...        ...       ...  \n",
       "9989      0.20    4.1028  \n",
       "9990      0.00   15.6332  \n",
       "9991      0.20   19.3932  \n",
       "9992      0.00   13.3200  \n",
       "9993      0.00   72.9480  \n",
       "\n",
       "[9994 rows x 21 columns]"
      ]
     },
     "execution_count": 10,
     "metadata": {},
     "output_type": "execute_result"
    }
   ],
   "source": [
    "read_excel(\"C:/Users/Affan/Downloads/Pavan Lalwani Sales Report.xlsx\")"
   ]
  },
  {
   "cell_type": "code",
   "execution_count": 11,
   "id": "3bc5d055-de1c-4dad-93ef-3c2f1d48fb26",
   "metadata": {},
   "outputs": [],
   "source": [
    "def read_text(file):\n",
    "    try:\n",
    "        with open(file, 'r', encoding='utf-8') as f:\n",
    "            content = f.read()\n",
    "        print(\"text file opened\")\n",
    "        print(content[:500])  # show first 500 characters\n",
    "        return content\n",
    "    except Exception as err:\n",
    "        print(\"problem reading text file:\", err)\n"
   ]
  },
  {
   "cell_type": "code",
   "execution_count": 12,
   "id": "472203e7-ab20-4a81-a1a0-7f42884955ef",
   "metadata": {},
   "outputs": [],
   "source": [
    "import pdfplumber\n",
    "\n",
    "def read_pdf(file):\n",
    "    try:\n",
    "        with pdfplumber.open(file) as pdf:\n",
    "            text = ''\n",
    "            for page in pdf.pages:\n",
    "                text += page.extract_text()\n",
    "        print(\"pdf file opened\")\n",
    "        print(text[:500])  # show first 500 characters\n",
    "        return text\n",
    "    except Exception as err:\n",
    "        print(\"couldn't read pdf file:\", err)\n"
   ]
  },
  {
   "cell_type": "code",
   "execution_count": 13,
   "id": "379b1aa2-13ed-4a77-9cb7-643577b632b4",
   "metadata": {},
   "outputs": [
    {
     "name": "stdout",
     "output_type": "stream",
     "text": [
      "pdf file opened\n",
      "11 June 2025\n",
      "Flight Ticket (Round trip)\n",
      "Booking ID: NF2AF0B349248158401, (Booked on )\n",
      "Barcode(s) for your journey Mumbai-Bangalore on IndiGo\n",
      "AFFAN MOHAMMED ARIF SHAIKH\n",
      "Barcode(s) for your journey Bangalore-Mumbai on AIR INDIA\n",
      "AFFAN MOHAMMED ARIF SHAIKH\n",
      "Mumbai - Bangalore\n",
      "Mon, 16 Jun 2025 • Non stop • 1h 45m duration\n",
      "IndiGo\n",
      "6E-6284 Mumbai 1h 45m Bangalore\n",
      "BOM 02:30 hrs 04:15 hrs BLR\n",
      "Mon, 16 Jun Mon, 16 Jun\n",
      "PNR Y1VGWV\n",
      "Chhatrapati Shivaji Bengaluru International\n",
      "International Airport Terminal Airpo\n"
     ]
    },
    {
     "data": {
      "text/plain": [
       "'11 June 2025\\nFlight Ticket (Round trip)\\nBooking ID: NF2AF0B349248158401, (Booked on )\\nBarcode(s) for your journey Mumbai-Bangalore on IndiGo\\nAFFAN MOHAMMED ARIF SHAIKH\\nBarcode(s) for your journey Bangalore-Mumbai on AIR INDIA\\nAFFAN MOHAMMED ARIF SHAIKH\\nMumbai - Bangalore\\nMon, 16 Jun 2025 • Non stop • 1h 45m duration\\nIndiGo\\n6E-6284 Mumbai 1h 45m Bangalore\\nBOM 02:30 hrs 04:15 hrs BLR\\nMon, 16 Jun Mon, 16 Jun\\nPNR Y1VGWV\\nChhatrapati Shivaji Bengaluru International\\nInternational Airport Terminal Airport Terminal 1\\n2\\nSALE Economy Regular Fare\\ncheck-in: 15 kgs (1 piece only) per adult cabin: 7 kgs (1 piece only) per adult\\nTRAVELLER SEAT MEAL E-TICKET NO\\nMR. AFFAN MOHAMMED ARIF SHAIKH Adult Y1VGWVBangalore - Mumbai\\nWed, 18 Jun 2025 • Non stop • 2h 10m duration\\nAIR INDIA\\nAI-2850 Bangalore 2h 10m Mumbai\\nBLR 20:25 hrs 22:35 hrs BOM\\nWed, 18 Jun Wed, 18 Jun\\nPNR DX8E6Z\\nBengaluru International Chhatrapati Shivaji\\nAirport Terminal 2 International Airport Terminal\\n2\\nEco Value Economy Regular Fare\\ncheck-in: 15 kgs per adult cabin: 7 kgs per adult\\nTRAVELLER SEAT MEAL E-TICKET NO\\nMR. AFFAN MOHAMMED ARIF SHAIKH Adult 098-2865867741\\nYou have paid INR 7208 You saved INR 900\\nDIGI YATRA\\nAvoid Long Queues at the Airport with DigiYatra\\nUse DigiYatra — the Ministry of Civil Aviation’s mobile app to enjoy a hassle-free airport experience, for\\nyour upcoming flight. It enables you to activate face scan for check-in at the airport with 2 easy steps:\\nStep 1: Pre-verifying your identity using Aadhaar Card details\\nStep 2: Updating your upcoming flight’s boarding pass\\nKnow MoreIMPORTANT INFORMATION\\n• Check-in Time : We advise you to reach the airport atleast 3 hours before departure. Check-in\\ncounter generally closes 60 minutes before scheduled departure. It may vary from airline to airline\\nand so it is advisable to check with the airline once.\\n• DGCA passenger charter : Please refer to passenger charter by clicking Here\\n• Check travel guidelines and baggage information below: : Carry no more than 1 check-in baggage\\nand 1 hand baggage per passenger. If violated, airline may levy extra charges.\\n• Important Update for Air India Unaccompanied Minor (UMNR) Bookings : As per Air India guidelines,\\nchildren aged 5 to 12 years travelling alone are classified as Unaccompanied Minors (UMNR). To\\nensure their safety and comfort, an additional charge over and above the full adult fare will be applied.\\nIt is mandatory for parents/guardians to fill out and carry four printed copies of the UMNR Form and\\narrive at the airport at least 3 hours before departure:Please refer to the Air India website for region-\\nwise UMNR charges and form details:\\n• Valid ID proof needed : Carry a valid photo identification proof (Driver Licence, Aadhar Card, Pan\\nCard or any other Government recognised photo identification)\\n• Please do not share your personal banking and security details like passwords, CVV, etc. with any\\nthird person or party claiming to represent MakeMyTrip. For any query, please reach out to\\nMakeMyTrip on our official customer care number.\\nYou can view all cancellation, date change and baggage related information here , If you want to manage\\nyour booking, you visit MyTrips section using this link\\nContact MakeMyTrip +91124 4628747 / +91124 5045105 (India Number)\\nContact IndiGo 0124-6173838, 0124-4973838\\nContact AIR INDIA +911169329333, +911169329999'"
      ]
     },
     "execution_count": 13,
     "metadata": {},
     "output_type": "execute_result"
    }
   ],
   "source": [
    "read_pdf(\"C:/Users/Affan/Downloads/NF2AF0B349248158401.ETicket.pdf\")"
   ]
  },
  {
   "cell_type": "code",
   "execution_count": 14,
   "id": "22342f78-9988-4d23-850c-b4bb20f1c67f",
   "metadata": {},
   "outputs": [],
   "source": [
    "from PIL import Image\n",
    "import pytesseract\n",
    "\n",
    "pytesseract.pytesseract.tesseract_cmd = r\"C:\\Program Files\\Tesseract-OCR\\tesseract.exe\"\n",
    "\n",
    "def read_image(file):\n",
    "    try:\n",
    "        img = Image.open(file)\n",
    "        text = pytesseract.image_to_string(img)\n",
    "        print(\"image loaded\")\n",
    "        print(text[:500])  # show first 500 characters\n",
    "        return text\n",
    "    except Exception as err:\n",
    "        print(\"couldn't read image file:\", err)\n"
   ]
  },
  {
   "cell_type": "code",
   "execution_count": 15,
   "id": "3835384d-0e8d-4f02-956a-c0311cb3b5db",
   "metadata": {},
   "outputs": [
    {
     "name": "stdout",
     "output_type": "stream",
     "text": [
      "image loaded\n",
      "In [71]: var('x,y')\n",
      "£ (x,y) =x*y*exp(-x*2-y\"2)\n",
      "plot3d(f,(x,-2,2),(y,-2,2))\n",
      "\n",
      "Out[71]+\n",
      "\n",
      "\n"
     ]
    },
    {
     "data": {
      "text/plain": [
       "'In [71]: var(\\'x,y\\')\\n£ (x,y) =x*y*exp(-x*2-y\"2)\\nplot3d(f,(x,-2,2),(y,-2,2))\\n\\nOut[71]+\\n\\n'"
      ]
     },
     "execution_count": 15,
     "metadata": {},
     "output_type": "execute_result"
    }
   ],
   "source": [
    "read_image(r\"C:\\Users\\Affan\\ML_Agent _Project\\Screenshot 2024-08-03 233936.png\")\n"
   ]
  },
  {
   "cell_type": "code",
   "execution_count": 16,
   "id": "f30e34bb-67b7-407f-a576-04a86e0ffd8b",
   "metadata": {},
   "outputs": [],
   "source": [
    "def ask_agent(prompt):\n",
    "    try:\n",
    "        response = client.chat.completions.create(\n",
    "            model=\"meta-llama/Llama-4-Maverick-17B-128E-Instruct-FP8\",\n",
    "            messages=[{\"role\": \"user\", \"content\": prompt}],\n",
    "            max_tokens=300,\n",
    "            temperature=0.7\n",
    "        )\n",
    "        answer = response.choices[0].message.content\n",
    "        print(\"Agent Response:\\n\", answer)\n",
    "        return answer\n",
    "    except Exception as e:\n",
    "        print(\"Error while querying agent:\", e)\n"
   ]
  },
  {
   "cell_type": "code",
   "execution_count": 17,
   "id": "dd463ae1-7ae9-4264-8295-2abad448be87",
   "metadata": {},
   "outputs": [
    {
     "name": "stdout",
     "output_type": "stream",
     "text": [
      "Agent Response:\n",
      " **Machine Learning Overview**\n",
      "=====================================\n",
      "\n",
      "Machine Learning (ML) is a subfield of artificial intelligence (AI) that involves the use of algorithms and statistical models to enable machines to learn from data, make decisions, and improve their performance over time.\n",
      "\n",
      "**Key Characteristics**\n",
      "------------------------\n",
      "\n",
      "*   **Learning from data**: ML algorithms learn patterns and relationships from data, rather than being explicitly programmed.\n",
      "*   **Improves over time**: As more data is provided, the algorithm's performance improves, allowing it to make more accurate predictions or decisions.\n",
      "*   **Autonomy**: ML models can operate independently, making decisions based on the data they've been trained on.\n",
      "\n",
      "**Types of Machine Learning**\n",
      "-----------------------------\n",
      "\n",
      "1.  **Supervised Learning**: The algorithm is trained on labeled data, where the correct output is already known. The goal is to learn a mapping between input data and the corresponding output labels.\n",
      "2.  **Unsupervised Learning**: The algorithm is trained on unlabeled data, and it must find patterns or structure in the data on its own.\n",
      "3.  **Reinforcement Learning**: The algorithm learns through trial and error by interacting with an environment and receiving rewards or penalties for its actions.\n",
      "\n",
      "**Applications of Machine Learning**\n",
      "------------------------------------\n",
      "\n",
      "*   **Image and speech recognition**: ML is used in applications such as facial recognition, object detection, and voice assistants.\n",
      "*   **Natural Language Processing (NLP)**: ML is used in text analysis, sentiment analysis, and language translation.\n",
      "*   **Predict\n"
     ]
    },
    {
     "data": {
      "text/plain": [
       "\"**Machine Learning Overview**\\n=====================================\\n\\nMachine Learning (ML) is a subfield of artificial intelligence (AI) that involves the use of algorithms and statistical models to enable machines to learn from data, make decisions, and improve their performance over time.\\n\\n**Key Characteristics**\\n------------------------\\n\\n*   **Learning from data**: ML algorithms learn patterns and relationships from data, rather than being explicitly programmed.\\n*   **Improves over time**: As more data is provided, the algorithm's performance improves, allowing it to make more accurate predictions or decisions.\\n*   **Autonomy**: ML models can operate independently, making decisions based on the data they've been trained on.\\n\\n**Types of Machine Learning**\\n-----------------------------\\n\\n1.  **Supervised Learning**: The algorithm is trained on labeled data, where the correct output is already known. The goal is to learn a mapping between input data and the corresponding output labels.\\n2.  **Unsupervised Learning**: The algorithm is trained on unlabeled data, and it must find patterns or structure in the data on its own.\\n3.  **Reinforcement Learning**: The algorithm learns through trial and error by interacting with an environment and receiving rewards or penalties for its actions.\\n\\n**Applications of Machine Learning**\\n------------------------------------\\n\\n*   **Image and speech recognition**: ML is used in applications such as facial recognition, object detection, and voice assistants.\\n*   **Natural Language Processing (NLP)**: ML is used in text analysis, sentiment analysis, and language translation.\\n*   **Predict\""
      ]
     },
     "execution_count": 17,
     "metadata": {},
     "output_type": "execute_result"
    }
   ],
   "source": [
    "ask_agent(\"What is Machine Learning?\")\n"
   ]
  },
  {
   "cell_type": "code",
   "execution_count": 18,
   "id": "5bbbb6eb-56e3-4bbb-856a-26d981145854",
   "metadata": {},
   "outputs": [],
   "source": [
    "def read_and_ask_agent(file):\n",
    "    try:\n",
    "        with open(file, 'r', encoding='utf-8') as f:\n",
    "            content = f.read()\n",
    "        print(\"File loaded successfully.\\n\")\n",
    "        response = ask_agent(content)\n",
    "        print(\"Agent Response:\\n\", response)\n",
    "    except Exception as err:\n",
    "        print(\"Couldn't read text file:\", err)\n"
   ]
  },
  {
   "cell_type": "code",
   "execution_count": 19,
   "id": "63a26497-2912-4644-9e72-71724966d141",
   "metadata": {},
   "outputs": [
    {
     "name": "stdout",
     "output_type": "stream",
     "text": [
      "File loaded successfully.\n",
      "\n",
      "Agent Response:\n",
      " Hello Affan Shaikh, nice to meet you! Is there something I can help you with or would you like to chat?\n",
      "Agent Response:\n",
      " Hello Affan Shaikh, nice to meet you! Is there something I can help you with or would you like to chat?\n"
     ]
    }
   ],
   "source": [
    "read_and_ask_agent(\"C:\\\\Users\\\\Affan\\\\Desktop\\\\Sample test.txt\")"
   ]
  },
  {
   "cell_type": "code",
   "execution_count": 20,
   "id": "5e6318f4-51fb-4f29-a1b0-c1a5583cbbce",
   "metadata": {},
   "outputs": [],
   "source": [
    "import PyPDF2\n",
    "\n",
    "def read_pdf(file):\n",
    "    try:\n",
    "        with open(file, 'rb') as pdf_file:\n",
    "            reader = PyPDF2.PdfReader(pdf_file)\n",
    "            text = ''\n",
    "            for page in reader.pages:\n",
    "                text += page.extract_text()\n",
    "            print(\"PDF loaded successfully.\")\n",
    "            print(text[:500])  # Show first 500 characters\n",
    "            return text\n",
    "    except Exception as e:\n",
    "        print(\"Couldn't read PDF file:\", e)\n"
   ]
  },
  {
   "cell_type": "code",
   "execution_count": 22,
   "id": "8addad57-c0b5-4b7f-9fee-d8667734328e",
   "metadata": {},
   "outputs": [
    {
     "name": "stdout",
     "output_type": "stream",
     "text": [
      "PDF loaded successfully.\n",
      "Mumbai\n",
      "BOM 02:30 hrs\n",
      "Mon, 16 Jun\n",
      "Chhatrapati Shivaji \n",
      "International Airport Terminal \n",
      "2PNR Y1VGWV\n",
      "IndiGo\n",
      "6E-6284 (Round trip) Flight Ticket\n",
      "Booking ID: NF2AF0B349248158401,  (Booked on )\n",
      "11 June 2025\n",
      "Barcode(s) for your journey on Mumbai-Bangalore IndiGo\n",
      "AFFAN MOHAMMED ARIF SHAIKH\n",
      "Barcode(s) for your journey on Bangalore-Mumbai AIR INDIA\n",
      "AFFAN MOHAMMED ARIF SHAIKH\n",
      "Mumbai - Bangalore\n",
      "Mon, 16 Jun 2025 • Non stop • 1h 45m duration\n",
      "1h 45m Bangalore\n",
      "04:15 hrs BLR\n",
      "Mon, 16 Jun\n",
      "Bengaluru International \n",
      "\n"
     ]
    },
    {
     "data": {
      "text/plain": [
       "'Mumbai\\nBOM 02:30 hrs\\nMon, 16 Jun\\nChhatrapati Shivaji \\nInternational Airport Terminal \\n2PNR Y1VGWV\\nIndiGo\\n6E-6284 (Round trip) Flight Ticket\\nBooking ID: NF2AF0B349248158401,  (Booked on )\\n11 June 2025\\nBarcode(s) for your journey on Mumbai-Bangalore IndiGo\\nAFFAN MOHAMMED ARIF SHAIKH\\nBarcode(s) for your journey on Bangalore-Mumbai AIR INDIA\\nAFFAN MOHAMMED ARIF SHAIKH\\nMumbai - Bangalore\\nMon, 16 Jun 2025 • Non stop • 1h 45m duration\\n1h 45m Bangalore\\n04:15 hrs BLR\\nMon, 16 Jun\\nBengaluru International \\nAirport Terminal 1\\nSALE\\n Economy\\n Regular Fare\\ncheck-in: 15 kgs (1 piece only) per adult\\n cabin: 7 kgs (1 piece only) per adult\\nTRAVELLER SEAT MEAL E-TICKET NO\\nMR. AFFAN MOHAMMED ARIF SHAIKH Adult Y1VGWV\\nBangalore\\nBLR 20:25 hrs\\nWed, 18 Jun\\nBengaluru International \\nAirport Terminal 2PNR DX8E6Z\\nAIR INDIA\\nAI-2850Bangalore - Mumbai\\nWed, 18 Jun 2025 • Non stop • 2h 10m duration\\n2h 10m Mumbai\\n22:35 hrs BOM\\nWed, 18 Jun\\nChhatrapati Shivaji \\nInternational Airport Terminal \\n2\\nEco Value\\n Economy\\n Regular Fare\\ncheck-in: 15 kgs per adult\\n cabin: 7 kgs per adult\\nTRAVELLER SEAT MEAL E-TICKET NO\\nMR. AFFAN MOHAMMED ARIF SHAIKH Adult 098-2865867741\\nYou have paid  INR 7208 You saved INR 900\\nDIGI YATRA\\nAvoid Long Queues at the Airport with DigiYatra\\nUse DigiYatra — the Ministry of Civil Aviation’s mobile app to enjoy a hassle-free airport experience, for \\nyour upcoming flight. It enables you to activate face scan for check-in at the airport with 2 easy steps:\\nStep 1: Pre-verifying your identity using Aadhaar Card details\\nStep 2: Updating your upcoming flight’s boarding pass\\nKnow More\\nIMPORTANT INFORMATION\\n•Check-in Time : We advise you to reach the airport atleast 3 hours before departure. Check-in \\ncounter generally closes 60 minutes before scheduled departure. It may vary from airline to airline \\nand so it is advisable to check with the airline once.\\n•DGCA passenger charter : Please refer to passenger charter by clicking Here\\n•Check travel guidelines and baggage information below: : Carry no more than 1 check-in baggage \\nand 1 hand baggage per passenger. If violated, airline may levy extra charges.\\n•Important Update for Air India Unaccompanied Minor (UMNR) Bookings : As per Air India guidelines, \\nchildren aged 5 to 12 years travelling alone are classified as Unaccompanied Minors (UMNR). To \\nensure their safety and comfort, an additional charge over and above the full adult fare will be applied.\\nIt is mandatory for parents/guardians to fill out and carry four printed copies of the UMNR Form and \\narrive at the airport at least 3 hours before departure:Please refer to the Air India website for region-\\nwise UMNR charges and form details:\\n•Valid ID proof needed : Carry a valid photo identification proof (Driver Licence, Aadhar Card, Pan \\nCard or any other Government recognised photo identification)\\n•Please do not share your personal banking and security details like passwords, CVV, etc. with any \\nthird person or party claiming to represent MakeMyTrip. For any query, please reach out to \\nMakeMyTrip on our official customer care number.\\nYou can view all  , If you want to manage cancellation, date change and baggage related information here \\nyour booking, you visit  section using this MyTrips link\\nContact MakeMyTrip +91124 4628747 / +91124 5045105 (India Number)\\nContact IndiGo 0124-6173838, 0124-4973838\\nContact AIR INDIA +911169329333, +911169329999'"
      ]
     },
     "execution_count": 22,
     "metadata": {},
     "output_type": "execute_result"
    }
   ],
   "source": [
    "read_pdf(\"C:\\\\Users\\\\Affan\\\\ML_Agent _Project\\\\NF2AF0B349248158401.ETicket.pdf\")"
   ]
  },
  {
   "cell_type": "code",
   "execution_count": 1,
   "id": "170ad64d-c6b0-48de-bb5d-ac649b2e8d23",
   "metadata": {},
   "outputs": [],
   "source": [
    "\n",
    "import speech_recognition as sr\n",
    "\n",
    "def read_audio(file):\n",
    "    recognizer = sr.Recognizer()\n",
    "    try:\n",
    "        with sr.AudioFile(file) as source:\n",
    "            audio_data = recognizer.record(source)\n",
    "            text = recognizer.recognize_google(audio_data)\n",
    "            print(\"Audio loaded and transcribed\")\n",
    "            print(text[:500])  # preview first 500 characters\n",
    "            return text\n",
    "    except Exception as err:\n",
    "        print(\"Couldn't read audio file:\", err)\n"
   ]
  },
  {
   "cell_type": "code",
   "execution_count": 7,
   "id": "6fa46495-3ed1-4534-931f-36998aba35c2",
   "metadata": {},
   "outputs": [
    {
     "name": "stdout",
     "output_type": "stream",
     "text": [
      "Audio loaded and transcribed\n",
      "good morning everyone this is a fancy and I am a second year engineering student at KJ Somaiya College of Engineering\n"
     ]
    },
    {
     "data": {
      "text/plain": [
       "'good morning everyone this is a fancy and I am a second year engineering student at KJ Somaiya College of Engineering'"
      ]
     },
     "execution_count": 7,
     "metadata": {},
     "output_type": "execute_result"
    }
   ],
   "source": [
    "read_audio(\"C:\\\\Users\\\\Affan\\\\ML_Agent _Project\\\\Sample Audio.wav\")"
   ]
  },
  {
   "cell_type": "code",
   "execution_count": 4,
   "id": "89819837-2e79-4ded-89b3-cd9a754a626a",
   "metadata": {},
   "outputs": [
    {
     "name": "stdout",
     "output_type": "stream",
     "text": [
      "Collecting pydub\n",
      "  Downloading pydub-0.25.1-py2.py3-none-any.whl.metadata (1.4 kB)\n",
      "Downloading pydub-0.25.1-py2.py3-none-any.whl (32 kB)\n",
      "Installing collected packages: pydub\n",
      "Successfully installed pydub-0.25.1\n",
      "Note: you may need to restart the kernel to use updated packages.\n"
     ]
    }
   ],
   "source": [
    "pip install pydub"
   ]
  },
  {
   "cell_type": "code",
   "execution_count": 8,
   "id": "eac85033-77cd-43b8-8f97-95ba1273bc0b",
   "metadata": {},
   "outputs": [
    {
     "name": "stdout",
     "output_type": "stream",
     "text": [
      "Requirement already satisfied: seaborn in c:\\users\\affan\\anaconda3\\envs\\dataagent\\lib\\site-packages (0.13.2)\n",
      "Requirement already satisfied: numpy!=1.24.0,>=1.20 in c:\\users\\affan\\anaconda3\\envs\\dataagent\\lib\\site-packages (from seaborn) (2.3.0)\n",
      "Requirement already satisfied: pandas>=1.2 in c:\\users\\affan\\anaconda3\\envs\\dataagent\\lib\\site-packages (from seaborn) (2.3.0)\n",
      "Requirement already satisfied: matplotlib!=3.6.1,>=3.4 in c:\\users\\affan\\anaconda3\\envs\\dataagent\\lib\\site-packages (from seaborn) (3.10.3)\n",
      "Requirement already satisfied: contourpy>=1.0.1 in c:\\users\\affan\\anaconda3\\envs\\dataagent\\lib\\site-packages (from matplotlib!=3.6.1,>=3.4->seaborn) (1.3.2)\n",
      "Requirement already satisfied: cycler>=0.10 in c:\\users\\affan\\anaconda3\\envs\\dataagent\\lib\\site-packages (from matplotlib!=3.6.1,>=3.4->seaborn) (0.12.1)\n",
      "Requirement already satisfied: fonttools>=4.22.0 in c:\\users\\affan\\anaconda3\\envs\\dataagent\\lib\\site-packages (from matplotlib!=3.6.1,>=3.4->seaborn) (4.58.2)\n",
      "Requirement already satisfied: kiwisolver>=1.3.1 in c:\\users\\affan\\anaconda3\\envs\\dataagent\\lib\\site-packages (from matplotlib!=3.6.1,>=3.4->seaborn) (1.4.8)\n",
      "Requirement already satisfied: packaging>=20.0 in c:\\users\\affan\\anaconda3\\envs\\dataagent\\lib\\site-packages (from matplotlib!=3.6.1,>=3.4->seaborn) (24.2)\n",
      "Requirement already satisfied: pillow>=8 in c:\\users\\affan\\anaconda3\\envs\\dataagent\\lib\\site-packages (from matplotlib!=3.6.1,>=3.4->seaborn) (11.2.1)\n",
      "Requirement already satisfied: pyparsing>=2.3.1 in c:\\users\\affan\\anaconda3\\envs\\dataagent\\lib\\site-packages (from matplotlib!=3.6.1,>=3.4->seaborn) (3.2.3)\n",
      "Requirement already satisfied: python-dateutil>=2.7 in c:\\users\\affan\\anaconda3\\envs\\dataagent\\lib\\site-packages (from matplotlib!=3.6.1,>=3.4->seaborn) (2.9.0.post0)\n",
      "Requirement already satisfied: pytz>=2020.1 in c:\\users\\affan\\anaconda3\\envs\\dataagent\\lib\\site-packages (from pandas>=1.2->seaborn) (2025.2)\n",
      "Requirement already satisfied: tzdata>=2022.7 in c:\\users\\affan\\anaconda3\\envs\\dataagent\\lib\\site-packages (from pandas>=1.2->seaborn) (2025.2)\n",
      "Requirement already satisfied: six>=1.5 in c:\\users\\affan\\anaconda3\\envs\\dataagent\\lib\\site-packages (from python-dateutil>=2.7->matplotlib!=3.6.1,>=3.4->seaborn) (1.17.0)\n"
     ]
    }
   ],
   "source": [
    "!pip install seaborn\n"
   ]
  },
  {
   "cell_type": "code",
   "execution_count": 12,
   "id": "bad462e2-6ed3-47da-8687-0bb8b8fe3021",
   "metadata": {},
   "outputs": [],
   "source": [
    "import matplotlib.pyplot as plt\n",
    "import seaborn as sns\n",
    "import pandas as pd\n",
    "\n"
   ]
  },
  {
   "cell_type": "code",
   "execution_count": 13,
   "id": "615912d8-3947-4197-a5f6-469bf84f960e",
   "metadata": {},
   "outputs": [],
   "source": [
    "def plot_histogram(file, column):\n",
    "    try:\n",
    "        data = pd.read_csv(file)\n",
    "        plt.figure(figsize=(8, 5))\n",
    "        sns.histplot(data[column], kde=True)\n",
    "        plt.title(f'Histogram of {column}')\n",
    "        plt.xlabel(column)\n",
    "        plt.ylabel('Frequency')\n",
    "        plt.show()\n",
    "    except Exception as e:\n",
    "        print(\"Could not create histogram:\", e)\n"
   ]
  },
  {
   "cell_type": "code",
   "execution_count": 14,
   "id": "fa10eced-8d88-40d3-acdf-b4333bb4295d",
   "metadata": {},
   "outputs": [
    {
     "data": {
      "image/png": "[encoded data removed]",
      "text/plain": [
       "<Figure size 800x500 with 1 Axes>"
      ]
     },
     "metadata": {},
     "output_type": "display_data"
    }
   ],
   "source": [
    "plot_histogram(r\"C:\\Users\\Affan\\ML_Agent _Project\\personality_dataset.csv\", \"Friends_circle_size\")\n"
   ]
  },
  {
   "cell_type": "code",
   "execution_count": 15,
   "id": "7e6ac785-87fb-44d3-8f72-3b120e742d8c",
   "metadata": {},
   "outputs": [],
   "source": [
    "import matplotlib.pyplot as plt\n",
    "\n",
    "def plot_scatter(file, col1, col2):\n",
    "    try:\n",
    "        data = pd.read_csv(file)\n",
    "        plt.figure(figsize=(8, 5))\n",
    "        plt.scatter(data[col1], data[col2], color='green')\n",
    "        plt.title(f'Scatter Plot of {col1} vs {col2}')\n",
    "        plt.xlabel(col1)\n",
    "        plt.ylabel(col2)\n",
    "        plt.grid(True)\n",
    "        plt.show()\n",
    "    except Exception as e:\n",
    "        print(\"Could not create scatter plot:\", e)\n"
   ]
  },
  {
   "cell_type": "code",
   "execution_count": 18,
   "id": "efb46723-01b3-40a9-aa82-39afeff552c4",
   "metadata": {},
   "outputs": [],
   "source": [
    "def plot_bar(file, col):\n",
    "    try:\n",
    "        data = pd.read_csv(file)\n",
    "        plt.figure(figsize=(8, 5))\n",
    "        data[col].value_counts().plot(kind='bar', color='orange')\n",
    "        plt.title(f'Bar Chart for {col}')\n",
    "        plt.xlabel(col)\n",
    "        plt.ylabel('Count')\n",
    "        plt.grid(axis='y')\n",
    "        plt.show()\n",
    "    except Exception as e:\n",
    "        print(\"Could not create bar chart:\", e)\n"
   ]
  },
  {
   "cell_type": "code",
   "execution_count": 19,
   "id": "e46a8381-7bb0-49e0-9781-d9a0c6751502",
   "metadata": {},
   "outputs": [],
   "source": [
    "def plot_pie(file, col):\n",
    "    try:\n",
    "        data = pd.read_csv(file)\n",
    "        plt.figure(figsize=(6,6))\n",
    "        data[col].value_counts().plot(kind='pie', autopct='%1.1f%%', startangle=90)\n",
    "        plt.title(f'Pie Chart for {col}')\n",
    "        plt.ylabel('')  # Hide y-label\n",
    "        plt.show()\n",
    "    except Exception as e:\n",
    "        print(\"Could not create pie chart:\", e)\n"
   ]
  },
  {
   "cell_type": "code",
   "execution_count": 20,
   "id": "473b7dea-77bb-49ae-a55a-bc432d8ce369",
   "metadata": {},
   "outputs": [],
   "source": [
    "def plot_correlation_heatmap(file):\n",
    "    try:\n",
    "        data = pd.read_csv(file)\n",
    "        corr = data.corr(numeric_only=True)\n",
    "        plt.figure(figsize=(10,8))\n",
    "        sns.heatmap(corr, annot=True, cmap='coolwarm', linewidths=0.5)\n",
    "        plt.title('Correlation Heatmap')\n",
    "        plt.show()\n",
    "    except Exception as e:\n",
    "        print(\"Could not create heatmap:\", e)\n"
   ]
  },
  {
   "cell_type": "code",
   "execution_count": null,
   "id": "976131fa-e8df-4d34-a5ef-c82f54271974",
   "metadata": {},
   "outputs": [
    {
     "name": "stdout",
     "output_type": "stream",
     "text": [
      "\n",
      "Welcome to Affan's Data Analyst Agent\n",
      "1. Read CSV\n",
      "2. Read Excel\n",
      "3. Read Text\n",
      "4. Read PDF\n",
      "5. Read Image\n",
      "6. Read Audio\n",
      "7. Generate Histogram from CSV\n",
      "8. Generate Scatter Plot from CSV\n",
      "9. Generate Correlation Heatmap from CSV\n",
      "0. Exit\n"
     ]
    }
   ],
   "source": [
    "def main_menu():\n",
    "    print(\"\\nWelcome to Affan's Data Analyst Agent\")\n",
    "    print(\"1. Read CSV\")\n",
    "    print(\"2. Read Excel\")\n",
    "    print(\"3. Read Text\")\n",
    "    print(\"4. Read PDF\")\n",
    "    print(\"5. Read Image\")\n",
    "    print(\"6. Read Audio\")\n",
    "    print(\"7. Generate Histogram from CSV\")\n",
    "    print(\"8. Generate Scatter Plot from CSV\")\n",
    "    print(\"9. Generate Correlation Heatmap from CSV\")\n",
    "    print(\"0. Exit\")\n",
    "\n",
    "    choice = input(\"Enter your choice (0-9): \")\n",
    "\n",
    "    if choice == '1':\n",
    "        path = input(\"Enter CSV file path: \")\n",
    "        read_csv(path)\n",
    "    elif choice == '2':\n",
    "        path = input(\"Enter Excel file path: \")\n",
    "        read_excel(path)\n",
    "    elif choice == '3':\n",
    "        path = input(\"Enter text file path: \")\n",
    "        read_text(path)\n",
    "    elif choice == '4':\n",
    "        path = input(\"Enter PDF file path: \")\n",
    "        read_pdf(path)\n",
    "    elif choice == '5':\n",
    "        path = input(\"Enter image file path: \")\n",
    "        read_image(path)\n",
    "    elif choice == '6':\n",
    "        path = input(\"Enter audio file path: \")\n",
    "        read_audio(path)\n",
    "    elif choice == '7':\n",
    "        path = input(\"Enter CSV file path: \")\n",
    "        plot_histogram(path)\n",
    "    elif choice == '8':\n",
    "        path = input(\"Enter CSV file path: \")\n",
    "        plot_scatter(path)\n",
    "    elif choice == '9':\n",
    "        path = input(\"Enter CSV file path: \")\n",
    "        plot_correlation_heatmap(path)\n",
    "    elif choice == '0':\n",
    "        print(\"Exiting program.\")\n",
    "    else:\n",
    "        print(\"Invalid choice.\")\n",
    "\n",
    "# Call the menu\n",
    "main_menu()\n"
   ]
  },
  {
   "cell_type": "code",
   "execution_count": null,
   "id": "ecfc824a-9918-4203-a311-15ba8ba2e35b",
   "metadata": {},
   "outputs": [],
   "source": []
  }
 ],
 "metadata": {
  "kernelspec": {
   "display_name": "Python 3 (ipykernel)",
   "language": "python",
   "name": "python3"
  },
  "language_info": {
   "codemirror_mode": {
    "name": "ipython",
    "version": 3
   },
   "file_extension": ".py",
   "mimetype": "text/x-python",
   "name": "python",
   "nbconvert_exporter": "python",
   "pygments_lexer": "ipython3",
   "version": "3.11.13"
  }
 },
 "nbformat": 4,
 "nbformat_minor": 5
}
